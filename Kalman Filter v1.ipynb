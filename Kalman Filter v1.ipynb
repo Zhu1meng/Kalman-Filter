{
 "cells": [
  {
   "cell_type": "code",
   "execution_count": 71,
   "metadata": {
    "collapsed": false
   },
   "outputs": [
    {
     "data": {
      "text/plain": [
       "matrix([[ 3600.,  2400., -1200.],\n",
       "        [ 2400.,  2000., -1400.],\n",
       "        [-1200., -1400.,  1400.]])"
      ]
     },
     "execution_count": 71,
     "metadata": {},
     "output_type": "execute_result"
    }
   ],
   "source": [
    "import numpy as np\n",
    "from scipy.linalg import expm\n",
    "\n",
    "# covariance example [https://www.youtube.com/watch?v=9B5vEVjH2Pk]\n",
    "nvar = 3\n",
    "ncases = 5\n",
    "# raw scores matrix\n",
    "A = np.matrix([[90, 80, 40],\n",
    "               [90, 60, 80],  \n",
    "               [60, 50, 70],\n",
    "               [30, 40, 70],\n",
    "               [30, 20, 90]])\n",
    "# unity matrix\n",
    "I = np.matrix([[1,1,1,1,1],\n",
    "             [1,1,1,1,1],\n",
    "             [1,1,1,1,1],\n",
    "             [1,1,1,1,1],\n",
    "             [1,1,1,1,1]])\n",
    "# unity matrix * case scores = sum, *1/ncases = mean\n",
    "#A_distance=A-I%*%A*1/ncases\n",
    "A_distance = np.transpose(A)-np.matmul(np.transpose(A),I)*1/ncases\n",
    "# covariance matrix\n",
    "A_cov = np.matmul(A_distance,A)"
   ]
  },
  {
   "cell_type": "code",
   "execution_count": 157,
   "metadata": {
    "collapsed": false
   },
   "outputs": [
    {
     "data": {
      "text/plain": [
       "matrix([[ 4281.],\n",
       "        [  282.]])"
      ]
     },
     "execution_count": 157,
     "metadata": {},
     "output_type": "execute_result"
    }
   ],
   "source": [
    "import numpy as np\n",
    "from scipy.linalg import expm\n",
    "\n",
    "# Kalman filter process\n",
    "# H = transformation matrix, R = error in the observation, Y = observation matrix\n",
    "# 1. Xkp = AXk-1 + BUk + Wk -> predicted state\n",
    "# 2. Pkp = APk-1AT + Qk\n",
    "# 3. process cov matrix\n",
    "# 4. K = Pkp HT / KPkpHT + R\n",
    "# 5. Yk = CYkm + Zm\n",
    "# 6. Xk = Xkp + K[Y-HXk]\n",
    "# 7. Pk = (I-KH)Pkp & Xk\n",
    "\n",
    "nvar = 2\n",
    "\n",
    "# given\n",
    "Vx0 = 280\n",
    "X0 = 4000\n",
    "Vy0 = 120\n",
    "Y0 = 3000\n",
    "\n",
    "# initial conditions\n",
    "Ax = 2 \n",
    "DeltaT = 1\n",
    "Vx = 280\n",
    "DeltaX = 25\n",
    "# process error in process covariance matrix\n",
    "DeltaPx = 20\n",
    "DeltaPvx = 5\n",
    "# observation errors\n",
    "DeltaX = 25\n",
    "DeltaVx = 6\n",
    "\n",
    "# 1. Xkp = AXk-1 + BUk + Wk -> predicted state\n",
    "# A allows to update position and velocity\n",
    "A = np.identity(nvar) \n",
    "A[:2, 1:] = DeltaT\n",
    "X = np.matrix([[X0],\n",
    "              [Vx0]])\n",
    "B = np.matrix([[1/2*DeltaT*DeltaT],\n",
    "               [DeltaT]])\n",
    "Xkp = np.matmul(A,X) + B*Ax\n",
    "\n",
    "# 2. Pkp.i = APk-1AT + Qk -> initial process cov matrix\n",
    "Pkpi = np.matrix([[DeltaPx**2, DeltaPx*DeltaPvx],\n",
    "                  [DeltaPx*DeltaPvx, DeltaPvx**2]])\n",
    "# setting the cross terms to zero\n",
    "Pkpi[:1, 1:] = 0\n",
    "Pkpi[1:, :1] = 0\n",
    "\n",
    "# 3. Pkp = APkp.iAT + QR >- Predicted / adjusted process cov matrix\n",
    "Qr = 0    # error in the process of calculating the process cov matrix\n",
    "Pkp = np.matmul(np.matmul(A,Pkpi),np.transpose(A))\n",
    "# setting the cross terms to zero\n",
    "Pkp[:1, 1:] = 0\n",
    "Pkp[1:, :1] = 0\n",
    "\n",
    "# 4. K = Pkp HT / KPkpHT + R -> Calculate the Kalman Gain\n",
    "H = np.identity(nvar)          # matrix to allows to change the format of Pkp\n",
    "R = np.matrix([[DeltaX**2, 0], # observation errors\n",
    "               [0, DeltaVx**2]]) \n",
    "# Pkp%*%t(H) <- upper term\n",
    "# H%*%Pkp*t(H)+R <- lower term\n",
    "# dividing equals multiplication with inverse (solve function)\n",
    "# K = Pkp%*%t(H)*solve(H%*%Pkp*t(H)+R)\n",
    "K = np.matmul(np.matmul(Pkp, np.transpose(H)), \n",
    "          np.linalg.inv(np.matmul(np.matmul(H, Pkp),np.transpose(H))+R))\n",
    "\n",
    "# 5. Yk = CYkm + Zm -> represents observed state\n",
    "C = np.identity(nvar)\n",
    "Zk = 0      # observation errors in mechanism (eg. electronic delays)\n",
    "Ykm = np.matrix([[4260],\n",
    "                 [282]])\n",
    "Yk = np.matmul(C, Ykm)\n",
    "\n",
    "# 6. Xk = Xkp + K[Y-HXk] -> calculate current state\n",
    "Xk = Xkp + np.matmul(K, (Yk - np.matmul(H, Xkp)))\n",
    "\n",
    "# 7. Pk = (I-KH)Pkp & Xk -> update process cov matrix\n",
    "I = np.identity(nvar)\n",
    "Pk = np.matmul((I - K*H), Pkp)\n",
    "\n",
    "##############################################################"
   ]
  },
  {
   "cell_type": "code",
   "execution_count": 160,
   "metadata": {
    "collapsed": false
   },
   "outputs": [
    {
     "data": {
      "text/plain": [
       "array([[0],\n",
       "       [0],\n",
       "       [0],\n",
       "       [0]])"
      ]
     },
     "execution_count": 160,
     "metadata": {},
     "output_type": "execute_result"
    }
   ],
   "source": []
  },
  {
   "cell_type": "code",
   "execution_count": null,
   "metadata": {
    "collapsed": true
   },
   "outputs": [],
   "source": []
  }
 ],
 "metadata": {
  "kernelspec": {
   "display_name": "Python 3",
   "language": "python",
   "name": "python3"
  },
  "language_info": {
   "codemirror_mode": {
    "name": "ipython",
    "version": 3
   },
   "file_extension": ".py",
   "mimetype": "text/x-python",
   "name": "python",
   "nbconvert_exporter": "python",
   "pygments_lexer": "ipython3",
   "version": "3.5.1"
  }
 },
 "nbformat": 4,
 "nbformat_minor": 0
}
