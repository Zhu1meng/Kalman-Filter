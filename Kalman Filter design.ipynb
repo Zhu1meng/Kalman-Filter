{
 "cells": [
  {
   "cell_type": "code",
   "execution_count": null,
   "metadata": {
    "collapsed": true
   },
   "outputs": [],
   "source": []
  },
  {
   "cell_type": "code",
   "execution_count": 3,
   "metadata": {
    "collapsed": false
   },
   "outputs": [],
   "source": [
    "############################################################################################\n",
    "# KALMAN FILTER PROJECT \n",
    "# CODE FROM \n",
    "# https://app.mybinder.org:80/2203287855/notebooks/08-Designing-Kalman-Filters.ipynb\n",
    "\n",
    "from numpy.random import randn\n",
    "import numpy as np\n",
    "import copy\n",
    "class PosSensor1(object):\n",
    "    def __init__(self, pos=(0, 0), vel=(0, 0), noise_std=1.):\n",
    "        self.vel = vel\n",
    "        self.noise_std = noise_std\n",
    "        self.pos = [pos[0], pos[1]]\n",
    "        \n",
    "    def read(self):\n",
    "        self.pos[0] += self.vel[0]\n",
    "        self.pos[1] += self.vel[1]\n",
    "        \n",
    "        return [self.pos[0] + randn() * self.noise_std,\n",
    "                self.pos[1] + randn() * self.noise_std]"
   ]
  },
  {
   "cell_type": "code",
   "execution_count": 11,
   "metadata": {
    "collapsed": false,
    "scrolled": true
   },
   "outputs": [
    {
     "data": {
      "text/plain": [
       "array([[ 1.,  1.,  0.,  0.],\n",
       "       [ 0.,  1.,  0.,  0.],\n",
       "       [ 0.,  0.,  1.,  1.],\n",
       "       [ 0.,  0.,  0.,  1.]])"
      ]
     },
     "execution_count": 11,
     "metadata": {},
     "output_type": "execute_result"
    }
   ],
   "source": [
    "# state variables \n",
    "from filterpy.kalman import KalmanFilter\n",
    "tracker = KalmanFilter(dim_x=4, dim_z=2)\n",
    "dt = 1.   # delta T; time step 1 second\n",
    "ndim = 2\n",
    "tracker.F = np.array([[1, dt, 0,  0],\n",
    "                      [0,  1, 0,  0],\n",
    "                      [0,  0, 1, dt],\n",
    "                      [0,  0, 0,  1]])\n",
    "tracker.F"
   ]
  },
  {
   "cell_type": "code",
   "execution_count": 12,
   "metadata": {
    "collapsed": false
   },
   "outputs": [
    {
     "data": {
      "text/plain": [
       "array([[ 0.00025,  0.0005 ,  0.     ,  0.     ],\n",
       "       [ 0.0005 ,  0.001  ,  0.     ,  0.     ],\n",
       "       [ 0.     ,  0.     ,  0.00025,  0.0005 ],\n",
       "       [ 0.     ,  0.     ,  0.0005 ,  0.001  ]])"
      ]
     },
     "execution_count": 12,
     "metadata": {},
     "output_type": "execute_result"
    }
   ],
   "source": [
    "# design the state transition function\n",
    "from scipy.linalg import block_diag\n",
    "from filterpy.common import Q_discrete_white_noise\n",
    "\n",
    "# model white noise, assumed its a discrete time Wieder process, constant for earch time period\n",
    "q = Q_discrete_white_noise(dim=ndim, dt=dt, var=0.001)\n",
    "tracker.Q = block_diag(q, q)\n",
    "tracker.Q"
   ]
  },
  {
   "cell_type": "code",
   "execution_count": 13,
   "metadata": {
    "collapsed": false
   },
   "outputs": [
    {
     "data": {
      "text/plain": [
       "array([[ 0.00025,  0.0005 ,  0.     ,  0.     ],\n",
       "       [ 0.0005 ,  0.001  ,  0.     ,  0.     ],\n",
       "       [ 0.     ,  0.     ,  0.00025,  0.0005 ],\n",
       "       [ 0.     ,  0.     ,  0.0005 ,  0.001  ]])"
      ]
     },
     "execution_count": 13,
     "metadata": {},
     "output_type": "execute_result"
    }
   ],
   "source": [
    "# design process noise matrix\n",
    "from scipy.linalg import block_diag\n",
    "from filterpy.common import Q_discrete_white_noise\n",
    "\n",
    "# assuming noise in x and y are independent\n",
    "q = Q_discrete_white_noise(dim=ndim, dt=dt, var=0.001)\n",
    "tracker.Q = block_diag(q, q)\n",
    "tracker.Q"
   ]
  },
  {
   "cell_type": "code",
   "execution_count": 14,
   "metadata": {
    "collapsed": false
   },
   "outputs": [
    {
     "data": {
      "text/plain": [
       "0"
      ]
     },
     "execution_count": 14,
     "metadata": {},
     "output_type": "execute_result"
    }
   ],
   "source": [
    "# design the control function\n",
    "# The KalmanFilter class initializes B to zero under the assumption that there is no control input,\n",
    "# so there is no code to write.\n",
    "tracker.B"
   ]
  },
  {
   "cell_type": "code",
   "execution_count": 17,
   "metadata": {
    "collapsed": false
   },
   "outputs": [
    {
     "data": {
      "text/plain": [
       "array([[ 3.2808399,  0.       ,  0.       ,  0.       ],\n",
       "       [ 0.       ,  0.       ,  3.2808399,  0.       ]])"
      ]
     },
     "execution_count": 17,
     "metadata": {},
     "output_type": "execute_result"
    }
   ],
   "source": [
    "# design the measurement function\n",
    "# H changes from state to measurement, so the conversion is 𝖿𝖾𝖾𝗍=𝗆𝖾𝗍𝖾𝗋𝗌/0.3048. This yields\n",
    "tracker.H = np.array([[1/0.3048, 0, 0,        0],\n",
    "                      [0,        0, 1/0.3048, 0]])\n",
    "tracker.H"
   ]
  },
  {
   "cell_type": "code",
   "execution_count": 19,
   "metadata": {
    "collapsed": false
   },
   "outputs": [
    {
     "data": {
      "text/plain": [
       "array([[5, 0],\n",
       "       [0, 5]])"
      ]
     },
     "execution_count": 19,
     "metadata": {},
     "output_type": "execute_result"
    }
   ],
   "source": [
    "# design the measurement noise matrix\n",
    "# for now setting the variance for x and y to be 5 meters2\n",
    "tracker.R = np.array([[5, 0],\n",
    "                      [0, 5]])\n",
    "tracker.R"
   ]
  },
  {
   "cell_type": "code",
   "execution_count": 20,
   "metadata": {
    "collapsed": true
   },
   "outputs": [],
   "source": [
    "# initial conditions\n",
    "tracker.x = np.array([[0, 0, 0, 0]]).T\n",
    "tracker.P = np.eye(4) * 500"
   ]
  },
  {
   "cell_type": "code",
   "execution_count": 31,
   "metadata": {
    "collapsed": false
   },
   "outputs": [],
   "source": [
    "# implementing the filter\n",
    "from filterpy.stats import plot_covariance_ellipse\n",
    "import matplotlib.pyplot as plt\n",
    "\n",
    "R_std = 0.35\n",
    "Q_std = 0.04\n",
    "\n",
    "def tracker1():\n",
    "    tracker = KalmanFilter(dim_x=4, dim_z=2)\n",
    "    dt = 1.0   # time step\n",
    "    ndim = 2\n",
    "    \n",
    "    tracker.F = np.array([[1, dt, 0,  0],\n",
    "                          [0,  1, 0,  0],\n",
    "                          [0,  0, 1, dt],\n",
    "                          [0,  0, 0,  1]])\n",
    "    tracker.u = 0.\n",
    "    tracker.H = np.array([[1/0.3048, 0, 0, 0],\n",
    "                          [0, 0, 1/0.3048, 0]])\n",
    "\n",
    "    tracker.R = np.eye(2) * R_std**2\n",
    "    q = Q_discrete_white_noise(dim=ndim, dt=dt, var=Q_std**2)\n",
    "    tracker.Q = block_diag(q, q)\n",
    "    tracker.x = np.array([[0, 0, 0, 0]]).T\n",
    "    tracker.P = np.eye(4) * 500.\n",
    "    return tracker\n",
    "\n",
    "# simulate robot movement\n",
    "N = 30\n",
    "sensor = PosSensor1((0, 0), (2, .2), noise_std=R_std)\n",
    "\n",
    "zs = np.array([np.array([sensor.read()]).T for _ in range(N)])\n",
    "\n",
    "# run filter\n",
    "robot_tracker = tracker1()\n",
    "mu, cov, _, _ = robot_tracker.batch_filter(zs)\n",
    "\n",
    "for x, P in zip(mu, cov):\n",
    "    # covariance of x and y\n",
    "    cov = np.array([[P[0, 0], P[2, 0]], \n",
    "                    [P[0, 2], P[2, 2]]])\n",
    "    mean = (x[0, 0], x[2, 0])\n",
    "    plot_covariance_ellipse(mean, cov=cov, fc='g', std=3, alpha=0.5)\n",
    "    \n",
    "zs *= .3048 # convert to meters"
   ]
  },
  {
   "cell_type": "code",
   "execution_count": 33,
   "metadata": {
    "collapsed": false
   },
   "outputs": [
    {
     "name": "stdout",
     "output_type": "stream",
     "text": [
      "[[ 0.00656162  0.00277676  0.          0.        ]\n",
      " [ 0.00277676  0.00298088  0.          0.        ]\n",
      " [ 0.          0.          0.00656162  0.00277676]\n",
      " [ 0.          0.          0.00277676  0.00298088]]\n"
     ]
    }
   ],
   "source": [
    "print(robot_tracker.P)"
   ]
  },
  {
   "cell_type": "code",
   "execution_count": 34,
   "metadata": {
    "collapsed": false
   },
   "outputs": [
    {
     "data": {
      "text/plain": [
       "array([[[  6.18384624e-01],\n",
       "        [ -3.01332942e-03]],\n",
       "\n",
       "       [[  1.32856893e+00],\n",
       "        [  2.98555329e-03]],\n",
       "\n",
       "       [[  1.88858973e+00],\n",
       "        [  2.02238757e-01]],\n",
       "\n",
       "       [[  2.51211819e+00],\n",
       "        [  1.93941008e-01]],\n",
       "\n",
       "       [[  3.38458463e+00],\n",
       "        [  3.46758425e-01]],\n",
       "\n",
       "       [[  3.63110500e+00],\n",
       "        [  3.04395240e-01]],\n",
       "\n",
       "       [[  4.29332572e+00],\n",
       "        [  3.38994990e-01]],\n",
       "\n",
       "       [[  4.90939376e+00],\n",
       "        [  5.00314133e-01]],\n",
       "\n",
       "       [[  5.38212894e+00],\n",
       "        [  5.34519162e-01]],\n",
       "\n",
       "       [[  6.14270587e+00],\n",
       "        [  6.93610331e-01]],\n",
       "\n",
       "       [[  6.76011394e+00],\n",
       "        [  6.77475663e-01]],\n",
       "\n",
       "       [[  7.27238623e+00],\n",
       "        [  8.90686835e-01]],\n",
       "\n",
       "       [[  7.81334393e+00],\n",
       "        [  6.89589840e-01]],\n",
       "\n",
       "       [[  8.43847856e+00],\n",
       "        [  8.93987015e-01]],\n",
       "\n",
       "       [[  9.03374301e+00],\n",
       "        [  8.50315696e-01]],\n",
       "\n",
       "       [[  9.76145191e+00],\n",
       "        [  1.01833330e+00]],\n",
       "\n",
       "       [[  1.04946500e+01],\n",
       "        [  1.17327070e+00]],\n",
       "\n",
       "       [[  1.09998577e+01],\n",
       "        [  1.20063813e+00]],\n",
       "\n",
       "       [[  1.16648222e+01],\n",
       "        [  1.06508881e+00]],\n",
       "\n",
       "       [[  1.21095210e+01],\n",
       "        [  1.08660419e+00]],\n",
       "\n",
       "       [[  1.25954469e+01],\n",
       "        [  1.48956167e+00]],\n",
       "\n",
       "       [[  1.35052035e+01],\n",
       "        [  1.25833683e+00]],\n",
       "\n",
       "       [[  1.40644228e+01],\n",
       "        [  1.36489144e+00]],\n",
       "\n",
       "       [[  1.45664874e+01],\n",
       "        [  1.36817012e+00]],\n",
       "\n",
       "       [[  1.53758078e+01],\n",
       "        [  1.50444288e+00]],\n",
       "\n",
       "       [[  1.57609047e+01],\n",
       "        [  1.50908112e+00]],\n",
       "\n",
       "       [[  1.64997555e+01],\n",
       "        [  1.61358136e+00]],\n",
       "\n",
       "       [[  1.70673050e+01],\n",
       "        [  1.73536849e+00]],\n",
       "\n",
       "       [[  1.77816986e+01],\n",
       "        [  1.70816920e+00]],\n",
       "\n",
       "       [[  1.83216618e+01],\n",
       "        [  1.76783521e+00]]])"
      ]
     },
     "execution_count": 34,
     "metadata": {},
     "output_type": "execute_result"
    }
   ],
   "source": [
    "zs"
   ]
  },
  {
   "cell_type": "code",
   "execution_count": 35,
   "metadata": {
    "collapsed": false
   },
   "outputs": [
    {
     "data": {
      "text/plain": [
       "<filterpy.kalman.kalman_filter.KalmanFilter at 0x8bad400>"
      ]
     },
     "execution_count": 35,
     "metadata": {},
     "output_type": "execute_result"
    }
   ],
   "source": [
    "robot_tracker"
   ]
  },
  {
   "cell_type": "code",
   "execution_count": 56,
   "metadata": {
    "collapsed": false
   },
   "outputs": [],
   "source": [
    "plt.plot(mu[:, 0], mu[:, 2])\n",
    "plt.plot(zs[:, 0], zs[:, 1])\n",
    "plt.show()"
   ]
  },
  {
   "cell_type": "code",
   "execution_count": null,
   "metadata": {
    "collapsed": false
   },
   "outputs": [],
   "source": []
  },
  {
   "cell_type": "code",
   "execution_count": null,
   "metadata": {
    "collapsed": true
   },
   "outputs": [],
   "source": []
  }
 ],
 "metadata": {
  "kernelspec": {
   "display_name": "Python 3",
   "language": "python",
   "name": "python3"
  },
  "language_info": {
   "codemirror_mode": {
    "name": "ipython",
    "version": 3
   },
   "file_extension": ".py",
   "mimetype": "text/x-python",
   "name": "python",
   "nbconvert_exporter": "python",
   "pygments_lexer": "ipython3",
   "version": "3.5.1"
  }
 },
 "nbformat": 4,
 "nbformat_minor": 0
}
